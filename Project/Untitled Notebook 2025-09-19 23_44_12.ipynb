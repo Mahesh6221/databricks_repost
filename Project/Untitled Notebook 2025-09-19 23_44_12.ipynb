{
 "cells": [
  {
   "cell_type": "markdown",
   "metadata": {
    "application/vnd.databricks.v1+cell": {
     "cellMetadata": {
      "byteLimit": 2048000,
      "rowLimit": 10000
     },
     "inputWidgets": {},
     "nuid": "d2aae9fb-4577-4c04-9c35-2a8edefa336f",
     "showTitle": false,
     "tableResultSettingsMap": {},
     "title": ""
    }
   },
   "source": [
    "## 1. Data Ingestion"
   ]
  },
  {
   "cell_type": "code",
   "execution_count": 0,
   "metadata": {
    "application/vnd.databricks.v1+cell": {
     "cellMetadata": {
      "byteLimit": 2048000,
      "rowLimit": 10000
     },
     "inputWidgets": {},
     "nuid": "3de499c2-ce62-48e6-813a-907a4819e354",
     "showTitle": false,
     "tableResultSettingsMap": {},
     "title": ""
    }
   },
   "outputs": [],
   "source": [
    "from pyspark.sql.functions import *\n",
    "from pyspark.sql.functions import col"
   ]
  },
  {
   "cell_type": "code",
   "execution_count": 0,
   "metadata": {
    "application/vnd.databricks.v1+cell": {
     "cellMetadata": {
      "byteLimit": 2048000,
      "rowLimit": 10000
     },
     "inputWidgets": {},
     "nuid": "40b731ae-2993-4b7c-a582-d5d109af992a",
     "showTitle": false,
     "tableResultSettingsMap": {},
     "title": ""
    }
   },
   "outputs": [],
   "source": [
    "# Load input datasets\n",
    "customers_df = spark.read.csv(\"/Volumes/workspace/default/bronze/customers.csv\", header=True, inferSchema=True)\n",
    "claims_df = spark.read.csv(\"/Volumes/workspace/default/bronze/claims.csv\",header=True,inferSchema=True)\n",
    "\n",
    "print(\"Customers Datasets:\")\n",
    "customers_df.show()\n",
    "\n",
    "print(\"Claims Datasets:\")\n",
    "claims_df.show()"
   ]
  },
  {
   "cell_type": "markdown",
   "metadata": {
    "application/vnd.databricks.v1+cell": {
     "cellMetadata": {
      "byteLimit": 2048000,
      "rowLimit": 10000
     },
     "inputWidgets": {},
     "nuid": "708c3a92-85d9-4d9a-8b24-ae39ca2435e8",
     "showTitle": false,
     "tableResultSettingsMap": {},
     "title": ""
    }
   },
   "source": [
    "### 2. Data Quality & Integrity"
   ]
  },
  {
   "cell_type": "markdown",
   "metadata": {
    "application/vnd.databricks.v1+cell": {
     "cellMetadata": {
      "byteLimit": 2048000,
      "rowLimit": 10000
     },
     "inputWidgets": {},
     "nuid": "fbbe384a-f54b-4b4e-8f26-283fa3cc5d02",
     "showTitle": false,
     "tableResultSettingsMap": {},
     "title": ""
    }
   },
   "source": [
    "### 1. Handle null values appropriately."
   ]
  },
  {
   "cell_type": "code",
   "execution_count": 0,
   "metadata": {
    "application/vnd.databricks.v1+cell": {
     "cellMetadata": {
      "byteLimit": 2048000,
      "rowLimit": 10000
     },
     "inputWidgets": {},
     "nuid": "e2f4dbce-4a91-4a86-9767-5a011229352a",
     "showTitle": false,
     "tableResultSettingsMap": {},
     "title": ""
    }
   },
   "outputs": [],
   "source": [
    "# checking if null value is present inside the column\n",
    "\n",
    "# for customers\n",
    "# customers_df.filter(customers_df.name.isNull()).show()\n",
    "\n",
    "# # for claims\n",
    "# claims_df.filter(claims_df.claim_amount.isNull()).show()"
   ]
  },
  {
   "cell_type": "markdown",
   "metadata": {
    "application/vnd.databricks.v1+cell": {
     "cellMetadata": {
      "byteLimit": 2048000,
      "rowLimit": 10000
     },
     "inputWidgets": {},
     "nuid": "3317038c-8aeb-4adb-be65-e8592981f70f",
     "showTitle": false,
     "tableResultSettingsMap": {},
     "title": ""
    }
   },
   "source": [
    "### Handling nulls"
   ]
  },
  {
   "cell_type": "code",
   "execution_count": 0,
   "metadata": {
    "application/vnd.databricks.v1+cell": {
     "cellMetadata": {
      "byteLimit": 2048000,
      "rowLimit": 10000
     },
     "inputWidgets": {},
     "nuid": "11183ce9-02f3-41a2-a9d1-8f9ba6603bbf",
     "showTitle": false,
     "tableResultSettingsMap": {},
     "title": ""
    }
   },
   "outputs": [],
   "source": [
    "### drop the rows \n",
    "customers_drop = customers_df.dropna()\n",
    "claims_drop = claims_df.dropna()\n",
    "\n",
    "# customers_drop.show()\n",
    "# claims_drop.show()"
   ]
  },
  {
   "cell_type": "code",
   "execution_count": 0,
   "metadata": {
    "application/vnd.databricks.v1+cell": {
     "cellMetadata": {
      "byteLimit": 2048000,
      "rowLimit": 10000
     },
     "inputWidgets": {},
     "nuid": "dcb61ff8-ed15-434c-85f5-3a6bc2a37ca2",
     "showTitle": false,
     "tableResultSettingsMap": {},
     "title": ""
    }
   },
   "outputs": [],
   "source": [
    "# Fill nulls with different values per column\n",
    "df_filled = customers_df.fillna({\"city\": 0, \"name\": \"Unknown\"})\n",
    "df_filled = claims_df.fillna({\"claim_amount\": 0, \"hospital_name\": \"Unknown\"})"
   ]
  },
  {
   "cell_type": "markdown",
   "metadata": {
    "application/vnd.databricks.v1+cell": {
     "cellMetadata": {
      "byteLimit": 2048000,
      "rowLimit": 10000
     },
     "inputWidgets": {},
     "nuid": "12835ea4-c38f-45f7-8095-24cabf25919d",
     "showTitle": false,
     "tableResultSettingsMap": {},
     "title": ""
    }
   },
   "source": [
    "### 2. Deduplicate duplicate claims"
   ]
  },
  {
   "cell_type": "code",
   "execution_count": 0,
   "metadata": {
    "application/vnd.databricks.v1+cell": {
     "cellMetadata": {
      "byteLimit": 2048000,
      "rowLimit": 10000
     },
     "inputWidgets": {},
     "nuid": "cb9c1b0f-668f-481b-aa33-bc7f5c2b43a4",
     "showTitle": false,
     "tableResultSettingsMap": {},
     "title": ""
    }
   },
   "outputs": [],
   "source": [
    "# checking the duplicate values\n",
    "customers_dup = customers_df.groupBy(\"customer_id\",\"name\", \"city\", \"state\").count().filter(col(\"count\") > 1).show()\n",
    "customers_dup = claims_df.groupBy(\"claim_amount\",\"insured_amount\", \"hospital_name\", \"state\").count().filter(col(\"count\") > 1).show()"
   ]
  },
  {
   "cell_type": "code",
   "execution_count": 0,
   "metadata": {
    "application/vnd.databricks.v1+cell": {
     "cellMetadata": {
      "byteLimit": 2048000,
      "rowLimit": 10000
     },
     "inputWidgets": {},
     "nuid": "7ba0113a-a49e-4277-adda-0e0aa0ddd239",
     "showTitle": false,
     "tableResultSettingsMap": {},
     "title": ""
    }
   },
   "outputs": [],
   "source": [
    "# identifying duplicates based on the business definition (all columns or key columns) and then using .dropDuplicates() or a Window function to keep only one record.\n",
    "# Deduplicate duplicate claims\n",
    "# claims_deduped = claims_df.dropDuplicates([\"customer_id\", \"policy_id\", \"claim_date\", \"hospital_name\"]).show()"
   ]
  },
  {
   "cell_type": "markdown",
   "metadata": {
    "application/vnd.databricks.v1+cell": {
     "cellMetadata": {},
     "inputWidgets": {},
     "nuid": "de573a2b-645a-4885-a97e-d3bc735f0bcd",
     "showTitle": false,
     "tableResultSettingsMap": {},
     "title": ""
    }
   },
   "source": [
    "### 3. Validate column data types (e.g., numeric fields must be numeric)."
   ]
  },
  {
   "cell_type": "code",
   "execution_count": 0,
   "metadata": {
    "application/vnd.databricks.v1+cell": {
     "cellMetadata": {
      "byteLimit": 2048000,
      "rowLimit": 10000
     },
     "inputWidgets": {},
     "nuid": "78297edf-dc5c-47b6-af2f-b1d33e4b3179",
     "showTitle": false,
     "tableResultSettingsMap": {},
     "title": ""
    }
   },
   "outputs": [],
   "source": [
    "# customers_df = customers_df.withColumn(\"customer_id\", col(\"customer_id\").cast(\"double\")).show()\n",
    "# claims_df = claims_df.withColumn(\"claim_amount\", col(\"claim_amount\").cast(\"double\")).show()"
   ]
  },
  {
   "cell_type": "markdown",
   "metadata": {
    "application/vnd.databricks.v1+cell": {
     "cellMetadata": {},
     "inputWidgets": {},
     "nuid": "c70510e6-508e-425d-bf23-bc58ac95488a",
     "showTitle": false,
     "tableResultSettingsMap": {},
     "title": ""
    }
   },
   "source": [
    "### 4. Ensure referential integrity: each claim must map to a valid customer."
   ]
  },
  {
   "cell_type": "code",
   "execution_count": 0,
   "metadata": {
    "application/vnd.databricks.v1+cell": {
     "cellMetadata": {
      "byteLimit": 2048000,
      "rowLimit": 10000
     },
     "inputWidgets": {},
     "nuid": "4e176b79-f47c-4314-a740-29c7c239ce65",
     "showTitle": false,
     "tableResultSettingsMap": {},
     "title": ""
    }
   },
   "outputs": [],
   "source": [
    "#Keeps only claims where customer exists.\n",
    "valid_claims = claims_df.join(customers_df, \"customer_id\", \"inner\")\n",
    "valid_claims.show()\n",
    "\n",
    "#Find claims with no matching customer\n",
    "invalid_claims = claims_df.join(customers_df, \"customer_id\", \"left_anti\")\n",
    "invalid_claims.show()"
   ]
  },
  {
   "cell_type": "code",
   "execution_count": 0,
   "metadata": {
    "application/vnd.databricks.v1+cell": {
     "cellMetadata": {},
     "inputWidgets": {},
     "nuid": "ccc9f112-6d17-49f9-a51d-f5a3a90fd97e",
     "showTitle": false,
     "tableResultSettingsMap": {},
     "title": ""
    }
   },
   "outputs": [],
   "source": []
  }
 ],
 "metadata": {
  "application/vnd.databricks.v1+notebook": {
   "computePreferences": null,
   "dashboards": [],
   "environmentMetadata": {
    "base_environment": "",
    "environment_version": "3"
   },
   "inputWidgetPreferences": null,
   "language": "python",
   "notebookMetadata": {
    "pythonIndentUnit": 4
   },
   "notebookName": "Untitled Notebook 2025-09-19 23_44_12",
   "widgets": {}
  },
  "language_info": {
   "name": "python"
  }
 },
 "nbformat": 4,
 "nbformat_minor": 0
}
