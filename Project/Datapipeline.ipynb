{
 "cells": [
  {
   "cell_type": "markdown",
   "metadata": {
    "application/vnd.databricks.v1+cell": {
     "cellMetadata": {
      "byteLimit": 2048000,
      "rowLimit": 10000
     },
     "inputWidgets": {},
     "nuid": "d9109f93-fe84-4674-97b4-c534c15639e0",
     "showTitle": false,
     "tableResultSettingsMap": {},
     "title": ""
    }
   },
   "source": [
    "## Data Ingestion"
   ]
  },
  {
   "cell_type": "code",
   "execution_count": 0,
   "metadata": {
    "application/vnd.databricks.v1+cell": {
     "cellMetadata": {
      "byteLimit": 2048000,
      "rowLimit": 10000
     },
     "inputWidgets": {},
     "nuid": "f313d821-8d60-43cf-b978-1f44212c0986",
     "showTitle": false,
     "tableResultSettingsMap": {},
     "title": ""
    }
   },
   "outputs": [],
   "source": [
    "from pyspark.sql import SparkSession\n",
    "from pyspark.sql.types import StructType, StructField, StringType, DoubleType, DateType, TimestampType\n",
    "from pyspark.sql.functions import *\n",
    "from pyspark.sql.functions import col"
   ]
  },
  {
   "cell_type": "code",
   "execution_count": 0,
   "metadata": {
    "application/vnd.databricks.v1+cell": {
     "cellMetadata": {
      "byteLimit": 2048000,
      "rowLimit": 10000
     },
     "inputWidgets": {},
     "nuid": "f4a82b7a-1b9f-4ab8-8bcc-681078dd1569",
     "showTitle": false,
     "tableResultSettingsMap": {},
     "title": ""
    }
   },
   "outputs": [],
   "source": [
    "# spark sessional initialization\n",
    "spark = SparkSession.builder \\\n",
    "    .appName(\"InsuranceClaimsFraudDetection\") \\\n",
    "    .getOrCreate()"
   ]
  },
  {
   "cell_type": "markdown",
   "metadata": {
    "application/vnd.databricks.v1+cell": {
     "cellMetadata": {
      "byteLimit": 2048000,
      "rowLimit": 10000
     },
     "inputWidgets": {},
     "nuid": "cfe602ca-f4a6-4593-af1f-168f7c0946e7",
     "showTitle": false,
     "tableResultSettingsMap": {},
     "title": ""
    }
   },
   "source": [
    "## Define Schemas"
   ]
  },
  {
   "cell_type": "code",
   "execution_count": 0,
   "metadata": {
    "application/vnd.databricks.v1+cell": {
     "cellMetadata": {
      "byteLimit": 2048000,
      "rowLimit": 10000
     },
     "inputWidgets": {},
     "nuid": "62167cd1-3899-48eb-9944-9595c29ed45d",
     "showTitle": false,
     "tableResultSettingsMap": {},
     "title": ""
    }
   },
   "outputs": [],
   "source": [
    "# Customers Schema\n",
    "customers_schema = StructType([\n",
    "    StructField(\"customer_id\", StringType(), False),\n",
    "    StructField(\"name\", StringType(), True),\n",
    "    StructField(\"dob\", DateType(), True),\n",
    "    StructField(\"city\", StringType(), True),\n",
    "    StructField(\"state\", StringType(), True),\n",
    "    StructField(\"created_at\", TimestampType(), True)\n",
    "])\n",
    "\n",
    "# Claims Schema\n",
    "claims_schema = StructType([\n",
    "    StructField(\"claim_id\", StringType(), False),\n",
    "    StructField(\"customer_id\", StringType(), False),\n",
    "    StructField(\"policy_id\", StringType(), True),\n",
    "    StructField(\"claim_date\", DateType(), True),\n",
    "    StructField(\"claim_amount\", DoubleType(), True),\n",
    "    StructField(\"insured_amount\", DoubleType(), True),\n",
    "    StructField(\"hospital_name\", StringType(), True),\n",
    "    StructField(\"city\", StringType(), True),\n",
    "    StructField(\"state\", StringType(), True)\n",
    "])"
   ]
  },
  {
   "cell_type": "code",
   "execution_count": 0,
   "metadata": {
    "application/vnd.databricks.v1+cell": {
     "cellMetadata": {
      "byteLimit": 2048000,
      "rowLimit": 10000
     },
     "inputWidgets": {},
     "nuid": "9bf2d210-2223-4ecb-810d-066eefd97584",
     "showTitle": false,
     "tableResultSettingsMap": {},
     "title": ""
    }
   },
   "outputs": [],
   "source": [
    "# Load input datasets\n",
    "customers_df = spark.read.csv(\"/Volumes/workspace/default/bronze/customers.csv\", header=True, inferSchema=True)\n",
    "claims_df = spark.read.csv(\"/Volumes/workspace/default/bronze/claims.csv\",header=True,inferSchema=True)\n",
    "\n",
    "print(\"Customers Datasets:\")\n",
    "customers_df.show()\n",
    "\n",
    "print(\"Claims Datasets:\")\n",
    "claims_df.show()"
   ]
  },
  {
   "cell_type": "markdown",
   "metadata": {
    "application/vnd.databricks.v1+cell": {
     "cellMetadata": {
      "byteLimit": 2048000,
      "rowLimit": 10000
     },
     "inputWidgets": {},
     "nuid": "60f1ba50-a270-4478-9d43-054e024c227f",
     "showTitle": false,
     "tableResultSettingsMap": {},
     "title": ""
    }
   },
   "source": [
    "## Data Quality & Integrity"
   ]
  },
  {
   "cell_type": "markdown",
   "metadata": {
    "application/vnd.databricks.v1+cell": {
     "cellMetadata": {
      "byteLimit": 2048000,
      "rowLimit": 10000
     },
     "inputWidgets": {},
     "nuid": "9c03e356-e2e8-4e32-9653-63441e33c01d",
     "showTitle": false,
     "tableResultSettingsMap": {},
     "title": ""
    }
   },
   "source": [
    "## 1. Handling null values appropriately"
   ]
  },
  {
   "cell_type": "code",
   "execution_count": 0,
   "metadata": {
    "application/vnd.databricks.v1+cell": {
     "cellMetadata": {
      "byteLimit": 2048000,
      "rowLimit": 10000
     },
     "inputWidgets": {},
     "nuid": "2dd776d1-51ac-4fd2-8d15-a19822e8633b",
     "showTitle": false,
     "tableResultSettingsMap": {},
     "title": ""
    }
   },
   "outputs": [],
   "source": [
    "\n",
    "# checking if null value is present inside the column\n",
    "\n",
    "# for customers\n",
    "customers_df.filter(customers_df.name.isNull()).show()\n",
    "\n",
    "\n",
    "# customers_df.filter(customers_df.customer_id.isNull()).show()\n",
    "# customers_df.filter(customers_df.city.isNull()).show()\n",
    "# customers_df.filter(customers_df.state.isNull()).show()\n",
    "# customers_df.filter(customers_df.dob.isNull()).show()\n",
    "# customers_df.filter(customers_df.created_at.isNull()).show()\n",
    "\n",
    "# for claims\n",
    "claims_df.filter(claims_df.claim_amount.isNull()).show()\n",
    "\n",
    "\n",
    "# claims_df.filter(claims_df.claim_date.isNull()).show()\n",
    "# claims_df.filter(claims_df.city.isNull()).show()\n",
    "# claims_df.filter(claims_df.state.isNull()).show()\n",
    "# claims_df.filter(claims_df.policy_id.isNull()).show()\n",
    "# claims_df.filter(claims_df.customer_id.isNull()).show()\n",
    "# claims_df.filter(claims_df.hospital_name.isNull())\n",
    "# claims_df.filter(claims_df.insured_amount.isNull())\n",
    "# claims_df.filter(claims_df.claim_id.isNull())\n"
   ]
  },
  {
   "cell_type": "markdown",
   "metadata": {
    "application/vnd.databricks.v1+cell": {
     "cellMetadata": {
      "byteLimit": 2048000,
      "rowLimit": 10000
     },
     "inputWidgets": {},
     "nuid": "548e75bd-7bda-4924-9faf-42ae15a7ce4b",
     "showTitle": false,
     "tableResultSettingsMap": {},
     "title": ""
    }
   },
   "source": [
    "## Handling nulls"
   ]
  },
  {
   "cell_type": "code",
   "execution_count": 0,
   "metadata": {
    "application/vnd.databricks.v1+cell": {
     "cellMetadata": {
      "byteLimit": 2048000,
      "rowLimit": 10000
     },
     "inputWidgets": {},
     "nuid": "1681ede2-2d02-4a91-9e91-aadc54fc780f",
     "showTitle": false,
     "tableResultSettingsMap": {},
     "title": ""
    }
   },
   "outputs": [],
   "source": [
    "### drop the rows \n",
    "customers_drop = customers_df.dropna()\n",
    "claims_drop = claims_df.dropna()\n",
    "\n",
    "# customers_drop.show()\n",
    "# claims_drop.show()"
   ]
  },
  {
   "cell_type": "code",
   "execution_count": 0,
   "metadata": {
    "application/vnd.databricks.v1+cell": {
     "cellMetadata": {
      "byteLimit": 2048000,
      "rowLimit": 10000
     },
     "inputWidgets": {},
     "nuid": "c67d5b8f-ac57-4d9c-a8ef-86fb51e76b14",
     "showTitle": false,
     "tableResultSettingsMap": {},
     "title": ""
    }
   },
   "outputs": [],
   "source": [
    "# Fill nulls with different values per column\n",
    "df_filled = customers_df.fillna({\"city\": 0, \"name\": \"Unknown\"})\n",
    "df_filled = claims_df.fillna({\"claim_amount\": 0, \"hospital_name\": \"Unknown\"})"
   ]
  },
  {
   "cell_type": "markdown",
   "metadata": {
    "application/vnd.databricks.v1+cell": {
     "cellMetadata": {
      "byteLimit": 2048000,
      "rowLimit": 10000
     },
     "inputWidgets": {},
     "nuid": "870087fc-68d0-4ca1-ad3f-2e8e473d8913",
     "showTitle": false,
     "tableResultSettingsMap": {},
     "title": ""
    }
   },
   "source": [
    "### 2. Deduplicate duplicate claims."
   ]
  },
  {
   "cell_type": "code",
   "execution_count": 0,
   "metadata": {
    "application/vnd.databricks.v1+cell": {
     "cellMetadata": {
      "byteLimit": 2048000,
      "rowLimit": 10000
     },
     "inputWidgets": {},
     "nuid": "1e0a475e-932e-4983-aaf3-130aff1f5655",
     "showTitle": false,
     "tableResultSettingsMap": {},
     "title": ""
    }
   },
   "outputs": [],
   "source": [
    "customers_dup = customers_df.groupBy(\"customer_id\",\"name\", \"city\", \"state\").count().filter(col(\"count\") > 1).show()\n",
    "customers_dup = claims_df.groupBy(\"claim_amount\",\"insured_amount\", \"hospital_name\", \"state\").count().filter(col(\"count\") > 1).show()"
   ]
  },
  {
   "cell_type": "code",
   "execution_count": 0,
   "metadata": {
    "application/vnd.databricks.v1+cell": {
     "cellMetadata": {
      "byteLimit": 2048000,
      "rowLimit": 10000
     },
     "inputWidgets": {},
     "nuid": "dfeffd7a-dbb3-438d-8113-25e26237fa2e",
     "showTitle": false,
     "tableResultSettingsMap": {},
     "title": ""
    }
   },
   "outputs": [],
   "source": [
    "# Deduplicate duplicate claims\n",
    "claims_deduped = claims_df.dropDuplicates([\"customer_id\", \"policy_id\", \"claim_date\", \"hospital_name\"]).show()"
   ]
  },
  {
   "cell_type": "markdown",
   "metadata": {
    "application/vnd.databricks.v1+cell": {
     "cellMetadata": {
      "byteLimit": 2048000,
      "rowLimit": 10000
     },
     "inputWidgets": {},
     "nuid": "944d0b20-f499-4d74-98fc-bfb065a47380",
     "showTitle": false,
     "tableResultSettingsMap": {},
     "title": ""
    }
   },
   "source": [
    "### 3. Validate column data types (e.g., numeric fields must be numeric)"
   ]
  },
  {
   "cell_type": "code",
   "execution_count": 0,
   "metadata": {
    "application/vnd.databricks.v1+cell": {
     "cellMetadata": {
      "byteLimit": 2048000,
      "rowLimit": 10000
     },
     "inputWidgets": {},
     "nuid": "51a73976-a8de-48bd-96dd-e6eaec766937",
     "showTitle": false,
     "tableResultSettingsMap": {},
     "title": ""
    }
   },
   "outputs": [],
   "source": [
    "# Validate column data types (e.g., numeric fields must be numeric).\n",
    "customers_df = customers_df.withColumn(\"customer_id\", col(\"customer_id\").cast(\"double\")).show()\n",
    "claims_df = claims_df.withColumn(\"claim_amount\", col(\"claim_amount\").cast(\"double\")).show()\n",
    "\n",
    "\n",
    "# invalid_customers = customers_df.filter(col(\"dob\").isNull() | col(\"created_at\").isNull())\n",
    "# print(\"Invalid customer rows:\")\n",
    "# invalid_customers.show()\n",
    "\n",
    "# # Claims: invalid dates or non-numeric amounts\n",
    "# invalid_claims = claims_df.filter(\n",
    "#     col(\"claim_date\").isNull() |\n",
    "#     col(\"claim_amount\").isNull() |\n",
    "#     col(\"insured_amount\").isNull()\n",
    "# )\n",
    "# print(\"Invalid claim rows:\")\n",
    "# invalid_claims.show()\n"
   ]
  },
  {
   "cell_type": "markdown",
   "metadata": {
    "application/vnd.databricks.v1+cell": {
     "cellMetadata": {
      "byteLimit": 2048000,
      "rowLimit": 10000
     },
     "inputWidgets": {},
     "nuid": "8abf2cce-f7db-45e3-8d9c-7bfcb58995fd",
     "showTitle": false,
     "tableResultSettingsMap": {},
     "title": ""
    }
   },
   "source": [
    "### 4. Ensure referential integrity: each claim must map to a valid customer."
   ]
  },
  {
   "cell_type": "code",
   "execution_count": 0,
   "metadata": {
    "application/vnd.databricks.v1+cell": {
     "cellMetadata": {
      "byteLimit": 2048000,
      "rowLimit": 10000
     },
     "inputWidgets": {},
     "nuid": "aeba0cbf-62a0-4f3b-871b-4ba0d763b0b8",
     "showTitle": false,
     "tableResultSettingsMap": {},
     "title": ""
    }
   },
   "outputs": [],
   "source": [
    "#Keeps only claims where customer exists.\n",
    "valid_claims = claims_df.join(customers_df,\"customer_id\",\"inner\")\n",
    "valid_claims.show()\n"
   ]
  },
  {
   "cell_type": "code",
   "execution_count": 0,
   "metadata": {
    "application/vnd.databricks.v1+cell": {
     "cellMetadata": {},
     "inputWidgets": {},
     "nuid": "583aad10-fe20-44b6-8eb5-e1da23b58426",
     "showTitle": false,
     "tableResultSettingsMap": {},
     "title": ""
    }
   },
   "outputs": [],
   "source": [
    "#Find claims with no matching customer\n",
    "invalid_claims = claims_df.join(customers_df, \"customer_id\", \"left_anti\")\n",
    "invalid_claims.show()"
   ]
  },
  {
   "cell_type": "code",
   "execution_count": 0,
   "metadata": {
    "application/vnd.databricks.v1+cell": {
     "cellMetadata": {},
     "inputWidgets": {},
     "nuid": "53dd8715-f3d7-466b-b71f-dc2ebf475e52",
     "showTitle": false,
     "tableResultSettingsMap": {},
     "title": ""
    }
   },
   "outputs": [],
   "source": [
    "# Silver dataset storage after cleaning data\n",
    "customers_df.write.format(\"parquet\").mode(\"overwrite\").save(\"/Volumes/workspace/default/Silver_Dataset\")\n",
    "claims_df.write.format(\"parquet\").mode(\"overwrite\").save(\"/Volumes/workspace/default/Silver_Dataset\")"
   ]
  },
  {
   "cell_type": "code",
   "execution_count": 0,
   "metadata": {
    "application/vnd.databricks.v1+cell": {
     "cellMetadata": {},
     "inputWidgets": {},
     "nuid": "9306eac6-1cd5-4d5d-a9be-822c7690dc2d",
     "showTitle": false,
     "tableResultSettingsMap": {},
     "title": ""
    }
   },
   "outputs": [],
   "source": [
    "# Reading data from Silver \n",
    "customers_df1 = spark.read.parquet(\"/Volumes/workspace/default/Silver_Dataset\", header=True, inferSchema=True)\n",
    "claims_df1 = spark.read.parquet(\"/Volumes/workspace/default/Silver_Dataset\",header=True,inferSchema=True)"
   ]
  },
  {
   "cell_type": "markdown",
   "metadata": {
    "application/vnd.databricks.v1+cell": {
     "cellMetadata": {
      "byteLimit": 2048000,
      "rowLimit": 10000
     },
     "inputWidgets": {},
     "nuid": "a5f14c63-3b42-4464-8dd4-0e6316219624",
     "showTitle": false,
     "tableResultSettingsMap": {},
     "title": ""
    }
   },
   "source": [
    "### 3. Fraud Detection Rules"
   ]
  },
  {
   "cell_type": "markdown",
   "metadata": {
    "application/vnd.databricks.v1+cell": {
     "cellMetadata": {
      "byteLimit": 2048000,
      "rowLimit": 10000
     },
     "inputWidgets": {},
     "nuid": "2f3525d1-e906-4cb9-94ad-892bc8d2af35",
     "showTitle": false,
     "tableResultSettingsMap": {},
     "title": ""
    }
   },
   "source": [
    "### Rule 1: Invalid Claim → If claim_amount > insured_amount"
   ]
  },
  {
   "cell_type": "code",
   "execution_count": 0,
   "metadata": {
    "application/vnd.databricks.v1+cell": {
     "cellMetadata": {},
     "inputWidgets": {},
     "nuid": "08c6ba5c-8a2d-4e50-8198-02cf6b715a9c",
     "showTitle": false,
     "tableResultSettingsMap": {},
     "title": ""
    }
   },
   "outputs": [],
   "source": [
    "from pyspark.sql.functions import col, when, count, countDistinct, year, weekofyear, lit, unix_timestamp\n",
    "from pyspark.sql.window import Window\n",
    "\n",
    "# Convert claim_date to numeric (seconds) for Rule 2\n",
    "df = claims_df1.withColumn(\"claim_ts\", unix_timestamp(\"claim_date\"))\n",
    "\n",
    "# --------------------\n",
    "# Rule 1: Invalid Claim\n",
    "# --------------------\n",
    "df = df.withColumn(\n",
    "    \"rule1_invalid\",\n",
    "    when(col(\"claim_amount\") > col(\"insured_amount\"), lit(1)).otherwise(lit(0))\n",
    ")\n",
    "\n",
    "# --------------------\n",
    "# Rule 2: More than 3 claims in 30 days\n",
    "# --------------------\n",
    "window_30d = Window.partitionBy(\"customer_id\").orderBy(\"claim_ts\").rangeBetween(-30*86400, 0)\n",
    "\n",
    "df = df.withColumn(\"claims_last_30_days\", count(\"claim_id\").over(window_30d)) \\\n",
    "       .withColumn(\"rule2_suspicious\", when(col(\"claims_last_30_days\") > 3, lit(1)).otherwise(lit(0)))\n",
    "\n",
    "# --------------------\n",
    "# Rule 3: Different states within same week\n",
    "# --------------------\n",
    "df = df.withColumn(\"year\", year(\"claim_date\")) \\\n",
    "       .withColumn(\"week\", weekofyear(\"claim_date\"))\n",
    "\n",
    "state_counts = df.groupBy(\"customer_id\", \"year\", \"week\") \\\n",
    "    .agg(countDistinct(\"state\").alias(\"distinct_states\"))\n",
    "\n",
    "# Do a SAFE join (preserve all existing df columns)\n",
    "df = df.alias(\"main\").join(\n",
    "    state_counts.alias(\"agg\"),\n",
    "    on=[\"customer_id\",\"year\",\"week\"],\n",
    "    how=\"left\"\n",
    ")\n",
    "\n",
    "df = df.withColumn(\"rule3_suspicious\", when(col(\"distinct_states\") > 1, lit(1)).otherwise(lit(0)))\n",
    "\n",
    "# --------------------\n",
    "# Final Fraud Status\n",
    "# --------------------\n",
    "df = df.withColumn(\n",
    "    \"fraud_status\",\n",
    "    when(col(\"rule1_invalid\") == 1, lit(\"Invalid\"))\n",
    "     .when((col(\"rule2_suspicious\") == 1) | (col(\"rule3_suspicious\") == 1), lit(\"Suspicious\"))\n",
    "     .otherwise(lit(\"Valid\"))\n",
    ")\n",
    "\n",
    "# --------------------\n",
    "# Final Select\n",
    "# --------------------\n",
    "df.select(\n",
    "    \"claim_id\",\"customer_id\",\"claim_date\",\"claim_amount\",\"insured_amount\",\n",
    "    \"state\",\"rule1_invalid\",\"rule2_suspicious\",\"rule3_suspicious\",\"fraud_status\"\n",
    ").show(20, False)\n"
   ]
  },
  {
   "cell_type": "code",
   "execution_count": 0,
   "metadata": {
    "application/vnd.databricks.v1+cell": {
     "cellMetadata": {},
     "inputWidgets": {},
     "nuid": "68a42fff-41b0-4091-a877-1d3ba38b962f",
     "showTitle": false,
     "tableResultSettingsMap": {},
     "title": ""
    }
   },
   "outputs": [],
   "source": [
    "# Gold dataset storage after Performing some agg pe\n",
    "customers_df.write.format(\"parquet\").mode(\"overwrite\").save(\"/Volumes/workspace/default/Gold_Dataset\")\n",
    "df_cleaned.write.format(\"parquet\").mode(\"overwrite\").save(\"/Volumes/workspace/default/Gold_Dataset\")"
   ]
  },
  {
   "cell_type": "code",
   "execution_count": 0,
   "metadata": {
    "application/vnd.databricks.v1+cell": {
     "cellMetadata": {},
     "inputWidgets": {},
     "nuid": "4519a11a-0f3a-458a-8244-ce049e7a831c",
     "showTitle": false,
     "tableResultSettingsMap": {},
     "title": ""
    }
   },
   "outputs": [],
   "source": [
    "# Top 5 customers with the most suspicious claims\n",
    "df_cleaned.createOrReplaceTempView(\"claims\")\n",
    "\n",
    "spark.sql(\"\"\"\n",
    "SELECT customer_id,\n",
    "       COUNT(*) AS suspicious_claims\n",
    "FROM claims\n",
    "WHERE fraud_status = 'Suspicious'\n",
    "GROUP BY customer_id\n",
    "ORDER BY suspicious_claims DESC\n",
    "LIMIT 5\n",
    "\"\"\").show()\n"
   ]
  },
  {
   "cell_type": "code",
   "execution_count": 0,
   "metadata": {
    "application/vnd.databricks.v1+cell": {
     "cellMetadata": {},
     "inputWidgets": {},
     "nuid": "81d80739-365d-4d52-a222-afe27e27bc66",
     "showTitle": false,
     "tableResultSettingsMap": {},
     "title": ""
    }
   },
   "outputs": [],
   "source": [
    "# States with the highest suspicious claim ratio\n",
    "spark.sql(\"\"\"\n",
    "SELECT state,\n",
    "       SUM(CASE WHEN fraud_status = 'Suspicious' THEN 1 ELSE 0 END) * 1.0 / COUNT(*) AS suspicious_ratio,\n",
    "       COUNT(*) AS total_claims\n",
    "FROM claims\n",
    "GROUP BY state\n",
    "ORDER BY suspicious_ratio DESC\n",
    "\"\"\").show()"
   ]
  },
  {
   "cell_type": "code",
   "execution_count": 0,
   "metadata": {
    "application/vnd.databricks.v1+cell": {
     "cellMetadata": {},
     "inputWidgets": {},
     "nuid": "8cd42322-830d-45a8-ba80-8889adf4f7d8",
     "showTitle": false,
     "tableResultSettingsMap": {},
     "title": ""
    }
   },
   "outputs": [],
   "source": [
    "# Average insured vs. claim amount for Valid vs. Suspicious claims\n",
    "spark.sql(\"\"\"\n",
    "SELECT fraud_status,\n",
    "       AVG(insured_amount) AS avg_insured_amount,\n",
    "       AVG(claim_amount)   AS avg_claim_amount,\n",
    "       COUNT(*) AS total_claims\n",
    "FROM claims\n",
    "WHERE fraud_status IN ('Valid','Suspicious')\n",
    "GROUP BY fraud_status\n",
    "\"\"\").show()"
   ]
  }
 ],
 "metadata": {
  "application/vnd.databricks.v1+notebook": {
   "computePreferences": null,
   "dashboards": [],
   "environmentMetadata": {
    "base_environment": "",
    "environment_version": "3"
   },
   "inputWidgetPreferences": null,
   "language": "python",
   "notebookMetadata": {
    "pythonIndentUnit": 4
   },
   "notebookName": "Datapipeline",
   "widgets": {}
  },
  "language_info": {
   "name": "python"
  }
 },
 "nbformat": 4,
 "nbformat_minor": 0
}
