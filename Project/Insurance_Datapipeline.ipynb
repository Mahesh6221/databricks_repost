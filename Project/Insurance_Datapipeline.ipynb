{
 "cells": [
  {
   "cell_type": "markdown",
   "metadata": {
    "application/vnd.databricks.v1+cell": {
     "cellMetadata": {
      "byteLimit": 2048000,
      "rowLimit": 10000
     },
     "inputWidgets": {},
     "nuid": "548ceee2-5b94-465f-b53a-a340736b985d",
     "showTitle": false,
     "tableResultSettingsMap": {},
     "title": ""
    }
   },
   "source": [
    "### 1. Data Ingestion"
   ]
  },
  {
   "cell_type": "code",
   "execution_count": 0,
   "metadata": {
    "application/vnd.databricks.v1+cell": {
     "cellMetadata": {
      "byteLimit": 2048000,
      "rowLimit": 10000
     },
     "inputWidgets": {},
     "nuid": "466ab9ca-0a41-4ca7-91ea-b7e7559b256c",
     "showTitle": false,
     "tableResultSettingsMap": {},
     "title": ""
    }
   },
   "outputs": [],
   "source": [
    "# Load input datasets\n",
    "customers_df = spark.read.csv(\"/Volumes/workspace/default/bronze/customers.csv\", header=True, inferSchema=True)\n",
    "claims_df = spark.read.csv(\"/Volumes/workspace/default/bronze/claims.csv\",header=True,inferSchema=True)\n",
    "\n",
    "\n",
    "customers_df.display()\n",
    "\n",
    "claims_df.display()"
   ]
  },
  {
   "cell_type": "markdown",
   "metadata": {
    "application/vnd.databricks.v1+cell": {
     "cellMetadata": {
      "byteLimit": 2048000,
      "rowLimit": 10000
     },
     "inputWidgets": {},
     "nuid": "16126c9a-ca6a-4f46-9309-dd3e734b2e4d",
     "showTitle": false,
     "tableResultSettingsMap": {},
     "title": ""
    }
   },
   "source": [
    "## 2. Data Quality & Integrity\n"
   ]
  },
  {
   "cell_type": "markdown",
   "metadata": {
    "application/vnd.databricks.v1+cell": {
     "cellMetadata": {
      "byteLimit": 2048000,
      "rowLimit": 10000
     },
     "inputWidgets": {},
     "nuid": "3e0a6edf-4d7c-4e45-97f3-f53f61ff077b",
     "showTitle": false,
     "tableResultSettingsMap": {},
     "title": ""
    }
   },
   "source": [
    "### 1. Handle null values appropriately"
   ]
  },
  {
   "cell_type": "code",
   "execution_count": 0,
   "metadata": {
    "application/vnd.databricks.v1+cell": {
     "cellMetadata": {
      "byteLimit": 2048000,
      "rowLimit": 10000
     },
     "inputWidgets": {},
     "nuid": "380dba1c-2745-41a4-be92-e991d9d8a717",
     "showTitle": false,
     "tableResultSettingsMap": {},
     "title": ""
    }
   },
   "outputs": [],
   "source": [
    "# checking if null value is present inside the column\n",
    "\n",
    "# for customers\n",
    "customers_df.filter(customers_df.name.isNull()).show()\n",
    "\n",
    "# for claims\n",
    "claims_df.filter(claims_df.claim_amount.isNull()).show()"
   ]
  },
  {
   "cell_type": "markdown",
   "metadata": {
    "application/vnd.databricks.v1+cell": {
     "cellMetadata": {
      "byteLimit": 2048000,
      "rowLimit": 10000
     },
     "inputWidgets": {},
     "nuid": "54015bf7-031d-43bb-8ff4-e3a6f2de6b08",
     "showTitle": false,
     "tableResultSettingsMap": {},
     "title": ""
    }
   },
   "source": [
    "### Handling nulls"
   ]
  },
  {
   "cell_type": "code",
   "execution_count": 0,
   "metadata": {
    "application/vnd.databricks.v1+cell": {
     "cellMetadata": {
      "byteLimit": 2048000,
      "rowLimit": 10000
     },
     "inputWidgets": {},
     "nuid": "8e7801aa-8fd8-4d27-b602-00d8603f3ab6",
     "showTitle": false,
     "tableResultSettingsMap": {},
     "title": ""
    }
   },
   "outputs": [],
   "source": [
    "### drop the rows \n",
    "customers_drop = customers_df.dropna()\n",
    "claims_drop = claims_df.dropna()"
   ]
  },
  {
   "cell_type": "code",
   "execution_count": 0,
   "metadata": {
    "application/vnd.databricks.v1+cell": {
     "cellMetadata": {
      "byteLimit": 2048000,
      "rowLimit": 10000
     },
     "inputWidgets": {},
     "nuid": "5ddad687-9587-48f5-95e9-241f54bd8511",
     "showTitle": false,
     "tableResultSettingsMap": {},
     "title": ""
    }
   },
   "outputs": [],
   "source": [
    "# Fill nulls with different values per column\n",
    "df_filled = customers_df.fillna({\"city\": 0, \"name\": \"Unknown\"})\n",
    "df_filled = claims_df.fillna({\"claim_amount\": 0, \"hospital_name\": \"Unknown\"})"
   ]
  },
  {
   "cell_type": "markdown",
   "metadata": {
    "application/vnd.databricks.v1+cell": {
     "cellMetadata": {
      "byteLimit": 2048000,
      "rowLimit": 10000
     },
     "inputWidgets": {},
     "nuid": "52579013-f612-4983-b041-b1b0eaf4bb72",
     "showTitle": false,
     "tableResultSettingsMap": {},
     "title": ""
    }
   },
   "source": [
    "### 2. Deduplicate duplicate claims."
   ]
  },
  {
   "cell_type": "code",
   "execution_count": 0,
   "metadata": {
    "application/vnd.databricks.v1+cell": {
     "cellMetadata": {
      "byteLimit": 2048000,
      "rowLimit": 10000
     },
     "inputWidgets": {},
     "nuid": "b8694f0f-c403-43e8-b0d3-523a59a37f4a",
     "showTitle": false,
     "tableResultSettingsMap": {},
     "title": ""
    }
   },
   "outputs": [],
   "source": [
    "# Finding Duplicates and Deduplicate duplicate claims. \n",
    "from pyspark.sql.functions import *\n",
    "customers_dup = customers_df.groupBy(\"customer_id\",\"name\", \"city\", \"state\").count().filter(col(\"count\") > 1).show()\n",
    "customers_dup = claims_df.groupBy(\"claim_amount\",\"insured_amount\", \"hospital_name\", \"state\").count().filter(col(\"count\") > 1).show()"
   ]
  },
  {
   "cell_type": "code",
   "execution_count": 0,
   "metadata": {
    "application/vnd.databricks.v1+cell": {
     "cellMetadata": {
      "byteLimit": 2048000,
      "rowLimit": 10000
     },
     "inputWidgets": {},
     "nuid": "ba3b9a2f-cdf8-437e-ba6f-fe1438fef546",
     "showTitle": false,
     "tableResultSettingsMap": {},
     "title": ""
    }
   },
   "outputs": [],
   "source": [
    "# Deduplicate duplicate claims\n",
    "claims_deduped = claims_df.dropDuplicates([\"customer_id\", \"policy_id\", \"claim_date\", \"hospital_name\"]).show()"
   ]
  },
  {
   "cell_type": "code",
   "execution_count": 0,
   "metadata": {
    "application/vnd.databricks.v1+cell": {
     "cellMetadata": {
      "byteLimit": 2048000,
      "rowLimit": 10000
     },
     "inputWidgets": {},
     "nuid": "cecb4796-7396-45bb-989c-2fa9e78bc5e0",
     "showTitle": false,
     "tableResultSettingsMap": {},
     "title": ""
    }
   },
   "outputs": [],
   "source": [
    "customers_df.printSchema()\n",
    "claims_df.printSchema()"
   ]
  },
  {
   "cell_type": "markdown",
   "metadata": {
    "application/vnd.databricks.v1+cell": {
     "cellMetadata": {
      "byteLimit": 2048000,
      "rowLimit": 10000
     },
     "inputWidgets": {},
     "nuid": "5f965925-3e28-4268-ae56-8d39bb15750c",
     "showTitle": false,
     "tableResultSettingsMap": {},
     "title": ""
    }
   },
   "source": [
    "### 3. Validate column data types (e.g., numeric fields must be numeric)"
   ]
  },
  {
   "cell_type": "code",
   "execution_count": 0,
   "metadata": {
    "application/vnd.databricks.v1+cell": {
     "cellMetadata": {
      "byteLimit": 2048000,
      "rowLimit": 10000
     },
     "inputWidgets": {},
     "nuid": "2c3357c2-94b8-455c-af6a-04e08664ffea",
     "showTitle": false,
     "tableResultSettingsMap": {},
     "title": ""
    }
   },
   "outputs": [],
   "source": [
    "# Validate column data types (e.g., numeric fields must be numeric).\n",
    "# customers_df = customers_df.withColumn(\"customer_id\", col(\"customer_id\").cast(\"double\")).show()\n",
    "# claims_df = claims_df.withColumn(\"claim_amount\", col(\"claim_amount\").cast(\"double\")).show()"
   ]
  },
  {
   "cell_type": "markdown",
   "metadata": {
    "application/vnd.databricks.v1+cell": {
     "cellMetadata": {
      "byteLimit": 2048000,
      "rowLimit": 10000
     },
     "inputWidgets": {},
     "nuid": "5360c1b4-e53d-48d6-822e-9aeeb434bd46",
     "showTitle": false,
     "tableResultSettingsMap": {},
     "title": ""
    }
   },
   "source": [
    "### 4. Ensure referential integrity: each claim must map to a valid customer."
   ]
  },
  {
   "cell_type": "code",
   "execution_count": 0,
   "metadata": {
    "application/vnd.databricks.v1+cell": {
     "cellMetadata": {
      "byteLimit": 2048000,
      "rowLimit": 10000
     },
     "inputWidgets": {},
     "nuid": "0fb0ac21-4b4a-4324-ac0b-bd82775b5fb7",
     "showTitle": false,
     "tableResultSettingsMap": {},
     "title": ""
    }
   },
   "outputs": [],
   "source": [
    "#Keeps only claims where customer exists.\n",
    "valid_claims = claims_df.join(customers_df, \"customer_id\", \"inner\")\n",
    "valid_claims.show()"
   ]
  },
  {
   "cell_type": "code",
   "execution_count": 0,
   "metadata": {
    "application/vnd.databricks.v1+cell": {
     "cellMetadata": {
      "byteLimit": 2048000,
      "rowLimit": 10000
     },
     "inputWidgets": {},
     "nuid": "56293a18-2fdb-4b7b-95a1-032ba24dae40",
     "showTitle": false,
     "tableResultSettingsMap": {},
     "title": ""
    }
   },
   "outputs": [],
   "source": [
    "#Find claims with no matching customer\n",
    "invalid_claims = claims_df.join(customers_df, \"customer_id\", \"left_anti\")\n",
    "invalid_claims.show()"
   ]
  },
  {
   "cell_type": "code",
   "execution_count": 0,
   "metadata": {
    "application/vnd.databricks.v1+cell": {
     "cellMetadata": {
      "byteLimit": 2048000,
      "rowLimit": 10000
     },
     "inputWidgets": {},
     "nuid": "0de8f7ea-07f7-411f-ae2d-7b8c576f6636",
     "showTitle": false,
     "tableResultSettingsMap": {},
     "title": ""
    }
   },
   "outputs": [],
   "source": [
    "# Silver dataset storage after cleaning data\n",
    "customers_df.write.format(\"parquet\").mode(\"overwrite\").save(\"/Volumes/workspace/default/Silver_Dataset\")\n",
    "claims_df.write.format(\"parquet\").mode(\"overwrite\").save(\"/Volumes/workspace/default/Silver_Dataset\")"
   ]
  },
  {
   "cell_type": "code",
   "execution_count": 0,
   "metadata": {
    "application/vnd.databricks.v1+cell": {
     "cellMetadata": {
      "byteLimit": 2048000,
      "rowLimit": 10000
     },
     "inputWidgets": {},
     "nuid": "0c132728-f554-4d0d-a728-2c106a1f8dbb",
     "showTitle": false,
     "tableResultSettingsMap": {},
     "title": ""
    }
   },
   "outputs": [],
   "source": [
    "# Reading data from Silver \n",
    "customers_df1 = spark.read.parquet(\"/Volumes/workspace/default/Silver_Dataset\", header=True, inferSchema=True)\n",
    "claims_df1 = spark.read.parquet(\"/Volumes/workspace/default/Silver_Dataset\",header=True,inferSchema=True)\n"
   ]
  },
  {
   "cell_type": "markdown",
   "metadata": {
    "application/vnd.databricks.v1+cell": {
     "cellMetadata": {
      "byteLimit": 2048000,
      "rowLimit": 10000
     },
     "inputWidgets": {},
     "nuid": "60198ec1-89d2-4337-b8f7-f79fb939b673",
     "showTitle": false,
     "tableResultSettingsMap": {},
     "title": ""
    }
   },
   "source": [
    "### 3. Fraud Detection Rules"
   ]
  },
  {
   "cell_type": "code",
   "execution_count": 0,
   "metadata": {
    "application/vnd.databricks.v1+cell": {
     "cellMetadata": {
      "byteLimit": 2048000,
      "rowLimit": 10000
     },
     "inputWidgets": {},
     "nuid": "9522cb21-8f24-4644-ae24-1f2d0796f0a9",
     "showTitle": false,
     "tableResultSettingsMap": {},
     "title": ""
    }
   },
   "outputs": [],
   "source": [
    "from pyspark.sql.functions import col, when, count, countDistinct, year, weekofyear, lit, unix_timestamp\n",
    "from pyspark.sql.window import Window\n",
    "\n",
    "# Convert claim_date to numeric (seconds) for Rule 2\n",
    "df = claims_df1.withColumn(\"claim_ts\", unix_timestamp(\"claim_date\"))\n",
    "\n",
    "# Rule 1: Invalid Claim\n",
    "\n",
    "df = df.withColumn(\n",
    "    \"rule1_invalid\",\n",
    "    when(col(\"claim_amount\") > col(\"insured_amount\"), lit(1)).otherwise(lit(0))\n",
    ")\n",
    "\n",
    "\n",
    "# Rule 2 Suspicious Claim : More than 3 claims in 30 days\n",
    "\n",
    "window_30d = Window.partitionBy(\"customer_id\").orderBy(\"claim_ts\").rangeBetween(-30*86400, 0)\n",
    "\n",
    "df = df.withColumn(\"claims_last_30_days\", count(\"claim_id\").over(window_30d)) \\\n",
    "       .withColumn(\"rule2_suspicious\", when(col(\"claims_last_30_days\") > 3, lit(1)).otherwise(lit(0)))\n",
    "\n",
    "\n",
    "# Rule 3 Suspicious Claim : customer claims Different states within same week\n",
    "\n",
    "df = df.withColumn(\"year\", year(\"claim_date\")) \\\n",
    "       .withColumn(\"week\", weekofyear(\"claim_date\"))\n",
    "\n",
    "state_counts = df.groupBy(\"customer_id\", \"year\", \"week\") \\\n",
    "    .agg(countDistinct(\"state\").alias(\"distinct_states\"))\n",
    "\n",
    "# Do a SAFE join (preserve all existing df columns)\n",
    "df = df.alias(\"main\").join(\n",
    "    state_counts.alias(\"agg\"),\n",
    "    on=[\"customer_id\",\"year\",\"week\"],\n",
    "    how=\"left\"\n",
    ")\n",
    "\n",
    "df = df.withColumn(\"rule3_suspicious\", when(col(\"distinct_states\") > 1, lit(1)).otherwise(lit(0)))\n",
    "\n",
    "\n",
    "\n",
    "# All other claims should be marked as Valid.\n",
    "\n",
    "df = df.withColumn(\n",
    "    \"fraud_status\",\n",
    "    when(col(\"rule1_invalid\") == 1, lit(\"Invalid\"))\n",
    "     .when((col(\"rule2_suspicious\") == 1) | (col(\"rule3_suspicious\") == 1), lit(\"Suspicious\"))\n",
    "     .otherwise(lit(\"Valid\"))\n",
    ")\n",
    "\n",
    "\n",
    "# df.select(\n",
    "#     \"claim_id\",\"customer_id\",\"claim_date\",\"claim_amount\",\"insured_amount\",\n",
    "#     \"state\",\"rule1_invalid\",\"rule2_suspicious\",\"rule3_suspicious\",\"fraud_status\"\n",
    "# ).show(20, False)\n"
   ]
  },
  {
   "cell_type": "code",
   "execution_count": 0,
   "metadata": {
    "application/vnd.databricks.v1+cell": {
     "cellMetadata": {
      "byteLimit": 2048000,
      "rowLimit": 10000
     },
     "inputWidgets": {},
     "nuid": "7eeecc36-5814-47d3-9212-d8bdaebe1fe5",
     "showTitle": false,
     "tableResultSettingsMap": {},
     "title": ""
    }
   },
   "outputs": [],
   "source": [
    "df_cleaned = df.select(\n",
    "    \"claim_id\",\"customer_id\",\"claim_date\",\"claim_amount\",\"insured_amount\",\n",
    "    \"state\",\"rule1_invalid\",\"rule2_suspicious\",\"rule3_suspicious\",\"fraud_status\"\n",
    ")"
   ]
  },
  {
   "cell_type": "code",
   "execution_count": 0,
   "metadata": {
    "application/vnd.databricks.v1+cell": {
     "cellMetadata": {
      "byteLimit": 2048000,
      "rowLimit": 10000
     },
     "inputWidgets": {},
     "nuid": "48143b7d-3d05-4427-822a-7c0f13b7230d",
     "showTitle": false,
     "tableResultSettingsMap": {},
     "title": ""
    }
   },
   "outputs": [],
   "source": [
    "# Gold dataset storage after Performing some agg pe\n",
    "customers_df.write.format(\"parquet\").mode(\"overwrite\").save(\"/Volumes/workspace/default/Gold_Dataset\")\n",
    "df_cleaned.write.format(\"parquet\").mode(\"overwrite\").save(\"/Volumes/workspace/default/Gold_Dataset\")"
   ]
  },
  {
   "cell_type": "markdown",
   "metadata": {
    "application/vnd.databricks.v1+cell": {
     "cellMetadata": {
      "byteLimit": 2048000,
      "rowLimit": 10000
     },
     "inputWidgets": {},
     "nuid": "915496fc-9973-4134-8d7e-201447771dcf",
     "showTitle": false,
     "tableResultSettingsMap": {},
     "title": ""
    }
   },
   "source": [
    "### 5. Analytical SQL Queries"
   ]
  },
  {
   "cell_type": "code",
   "execution_count": 0,
   "metadata": {
    "application/vnd.databricks.v1+cell": {
     "cellMetadata": {
      "byteLimit": 2048000,
      "rowLimit": 10000
     },
     "inputWidgets": {},
     "nuid": "b75c91ef-2845-40fe-b2cb-9330186c4b94",
     "showTitle": false,
     "tableResultSettingsMap": {},
     "title": ""
    }
   },
   "outputs": [],
   "source": [
    "# Top 5 customers with the most suspicious claims\n",
    "df_cleaned.createOrReplaceTempView(\"claims\")\n",
    "\n",
    "spark.sql(\"\"\"\n",
    "SELECT customer_id,\n",
    "       COUNT(*) AS suspicious_claims\n",
    "FROM claims\n",
    "WHERE fraud_status = 'Suspicious'\n",
    "GROUP BY customer_id\n",
    "ORDER BY suspicious_claims DESC\n",
    "LIMIT 5\n",
    "\"\"\").show()\n"
   ]
  },
  {
   "cell_type": "code",
   "execution_count": 0,
   "metadata": {
    "application/vnd.databricks.v1+cell": {
     "cellMetadata": {
      "byteLimit": 2048000,
      "rowLimit": 10000
     },
     "inputWidgets": {},
     "nuid": "b871f9ed-e688-4b6d-b163-0a58f1259d42",
     "showTitle": false,
     "tableResultSettingsMap": {},
     "title": ""
    }
   },
   "outputs": [],
   "source": [
    "# States with the highest suspicious claim ratio\n",
    "spark.sql(\"\"\"\n",
    "SELECT state,\n",
    "       SUM(CASE WHEN fraud_status = 'Suspicious' THEN 1 ELSE 0 END) * 1.0 / COUNT(*) AS suspicious_ratio,\n",
    "       COUNT(*) AS total_claims\n",
    "FROM claims\n",
    "GROUP BY state\n",
    "ORDER BY suspicious_ratio DESC\n",
    "\"\"\").show()\n"
   ]
  },
  {
   "cell_type": "code",
   "execution_count": 0,
   "metadata": {
    "application/vnd.databricks.v1+cell": {
     "cellMetadata": {
      "byteLimit": 2048000,
      "rowLimit": 10000
     },
     "inputWidgets": {},
     "nuid": "9f22c242-691c-4a9e-a1f8-9be9012f1f28",
     "showTitle": false,
     "tableResultSettingsMap": {},
     "title": ""
    }
   },
   "outputs": [],
   "source": [
    "# Average insured vs. claim amount for Valid vs. Suspicious claims\n",
    "spark.sql(\"\"\"\n",
    "SELECT fraud_status,\n",
    "       AVG(insured_amount) AS avg_insured_amount,\n",
    "       AVG(claim_amount)   AS avg_claim_amount,\n",
    "       COUNT(*) AS total_claims\n",
    "FROM claims\n",
    "WHERE fraud_status IN ('Valid','Suspicious')\n",
    "GROUP BY fraud_status\n",
    "\"\"\").show()\n"
   ]
  },
  {
   "cell_type": "code",
   "execution_count": 0,
   "metadata": {
    "application/vnd.databricks.v1+cell": {
     "cellMetadata": {
      "byteLimit": 2048000,
      "rowLimit": 10000
     },
     "inputWidgets": {},
     "nuid": "44a3b133-5437-45fa-9044-a0c8c4d6941c",
     "showTitle": false,
     "tableResultSettingsMap": {},
     "title": ""
    }
   },
   "outputs": [],
   "source": [
    "df = claims_df.withColumn(\"claim_ts\", unix_timestamp(\"claim_date\"))"
   ]
  },
  {
   "cell_type": "code",
   "execution_count": 0,
   "metadata": {
    "application/vnd.databricks.v1+cell": {
     "cellMetadata": {
      "byteLimit": 2048000,
      "rowLimit": 10000
     },
     "inputWidgets": {},
     "nuid": "92b793e4-82c2-4757-a378-3ed8ab524b15",
     "showTitle": false,
     "tableResultSettingsMap": {},
     "title": ""
    }
   },
   "outputs": [],
   "source": []
  }
 ],
 "metadata": {
  "application/vnd.databricks.v1+notebook": {
   "computePreferences": {
    "hardware": {
     "accelerator": null,
     "gpuPoolId": null,
     "memory": null
    }
   },
   "dashboards": [],
   "environmentMetadata": {
    "base_environment": "",
    "environment_version": "3"
   },
   "inputWidgetPreferences": null,
   "language": "python",
   "notebookMetadata": {
    "mostRecentlyExecutedCommandWithImplicitDF": {
     "commandId": 8892094830294376,
     "dataframes": [
      "_sqldf"
     ]
    },
    "pythonIndentUnit": 4
   },
   "notebookName": "Insurance_Datapipeline",
   "widgets": {}
  },
  "language_info": {
   "name": "python"
  }
 },
 "nbformat": 4,
 "nbformat_minor": 0
}
